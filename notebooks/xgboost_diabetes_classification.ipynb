{
 "cells": [
  {
   "cell_type": "markdown",
   "id": "bd852ab1",
   "metadata": {},
   "source": [
    "# Setup"
   ]
  },
  {
   "cell_type": "code",
   "execution_count": 1,
   "id": "00052a84",
   "metadata": {},
   "outputs": [
    {
     "name": "stdout",
     "output_type": "stream",
     "text": [
      "modelscan, version 0.5.1\n"
     ]
    }
   ],
   "source": [
    "!pip install -q modelscan\n",
    "!modelscan -v"
   ]
  },
  {
   "cell_type": "code",
   "execution_count": 2,
   "id": "eb656ce5",
   "metadata": {},
   "outputs": [],
   "source": [
    "!pip install -q xgboost==1.7.6\n",
    "!pip install -U -q scikit-learn==1.3.0"
   ]
  },
  {
   "cell_type": "code",
   "execution_count": 3,
   "id": "06e8fc79",
   "metadata": {},
   "outputs": [],
   "source": [
    "import pickle\n",
    "from pathlib import Path\n",
    "import os\n",
    "import numpy as np\n",
    "from utils.pickle_codeinjection import generate_unsafe_file\n",
    "from utils.xgboost_diabetes_model import train_model, get_predictions"
   ]
  },
  {
   "cell_type": "markdown",
   "id": "ea9cdc7f",
   "metadata": {},
   "source": [
    "## Optional Settings File for ModelScan\n",
    "\n",
    "ModelScan scan settings can be configured using a settings file. \n",
    "\n",
    "- To create a configurable settings file use: `modelscan create-settings-file` (creates a `modelscan-settings.toml` file in current directory). \n",
    "\n",
    "- The location and name of a settings file can also be specified with `modelscan create-settings-file -l ../path-to/settings-file.toml` \n",
    "\n",
    "Configurations:\n",
    "- A settings file would allow enabling/disabling particular scans such as H5LambdaDetectScan, and PickleUnsafeOpScan. \n",
    "\n",
    "- A settings file can also be configured to set particular severity level (CRITICAL, HIGH, MEDIUM, or LOW) for unsafe operators. \n",
    "\n",
    "- Reporting format for ModelScan results can also be specified in a settings file.\n",
    "\n",
    "If you would like to create a configurable settings file, uncomment the code in the next cell and run it. "
   ]
  },
  {
   "cell_type": "code",
   "execution_count": 4,
   "id": "9f6e95e5",
   "metadata": {},
   "outputs": [],
   "source": [
    "#!modelscan create-settings-file -l my-modelscan-settings.toml"
   ]
  },
  {
   "cell_type": "markdown",
   "id": "063dd649",
   "metadata": {},
   "source": [
    "# Saving Model\n",
    "\n",
    "The model is trained on a diabetes dataset, and predicts whether a person has diabetes or not. The dataset can be found here: [Link to PIMA Indian diabetes dataset](https://www.kaggle.com/datasets/uciml/pima-indians-diabetes-database). The model is saved at ```./XGBoostModels/safe_model.pkl```"
   ]
  },
  {
   "cell_type": "code",
   "execution_count": 5,
   "id": "015f415a",
   "metadata": {},
   "outputs": [],
   "source": [
    "model_directory = os.path.join(os.getcwd(), \"XGboostModels\")\n",
    "if not os.path.isdir(model_directory):\n",
    "    os.mkdir(model_directory)\n",
    "\n",
    "safe_model_path_pickle = os.path.join(model_directory, \"safe_model.pkl\")\n",
    "model = train_model()\n",
    "with open(safe_model_path_pickle, \"wb\") as fo:\n",
    "    pickle.dump(model, fo)"
   ]
  },
  {
   "cell_type": "markdown",
   "id": "51812303",
   "metadata": {},
   "source": [
    "# Safe Model Prediction"
   ]
  },
  {
   "cell_type": "code",
   "execution_count": 6,
   "id": "8b8d0327",
   "metadata": {},
   "outputs": [
    {
     "name": "stdout",
     "output_type": "stream",
     "text": [
      "The model predicts: [0, 1, 1]\n",
      "The true labels are: [0. 1. 1.]\n"
     ]
    }
   ],
   "source": [
    "number_of_predictions = 3\n",
    "get_predictions(number_of_predictions, model)"
   ]
  },
  {
   "cell_type": "markdown",
   "id": "fff6510d",
   "metadata": {},
   "source": [
    "# Scan Safe Model\n",
    "\n",
    "The scan results include information on the files scanned, and any issues if found. For the safe model scanned, modelscan finds no code injections in it, as expected.\n",
    "\n",
    "### ModelScan Settings File\n",
    "- If you have created a settings file with default name and location (`modelscan-settings.toml`) it would automatically be used when scanning a model. \n",
    "\n",
    "- If you want to use a  specific name and/or location of settings file, please specify it with `--settings-file` as outlined in the next cell. \n",
    "\n",
    "- If you have not created any settings file, ModelScan will scan using default settings.  "
   ]
  },
  {
   "cell_type": "code",
   "execution_count": 7,
   "id": "ccfeee08",
   "metadata": {},
   "outputs": [
    {
     "name": "stdout",
     "output_type": "stream",
     "text": [
      "No settings file detected at /Users/mehrinkiani/Documents/modelscan/notebooks/modelscan-settings.toml. Using defaults. \n",
      "\n",
      "Scanning /Users/mehrinkiani/Documents/modelscan/notebooks/XGBoostModels/safe_model.pkl using modelscan.scanners.PickleUnsafeOpScan model scan\n",
      "\n",
      "\u001b[34m--- Summary ---\u001b[0m\n",
      "\n",
      "\u001b[32m No issues found! 🎉\u001b[0m\n"
     ]
    }
   ],
   "source": [
    "#!modelscan -p XGBoostModels/safe_model.pkl --settings-file my-modelscan-settings.toml\n",
    "!modelscan -p XGBoostModels/safe_model.pkl"
   ]
  },
  {
   "cell_type": "markdown",
   "id": "985410d3",
   "metadata": {},
   "source": [
    "# Model Serialization Attack\n",
    "\n",
    "Here code is injected in the safe model to read aws secret keys. The unsafe model is saved at ```./XGBoostModels/unsafe_model.pkl```"
   ]
  },
  {
   "cell_type": "code",
   "execution_count": 8,
   "id": "d0e70069",
   "metadata": {},
   "outputs": [],
   "source": [
    "# Inject code with the command\n",
    "command = \"system\"\n",
    "malicious_code = \"\"\"cat ~/.aws/secrets\n",
    "    \"\"\""
   ]
  },
  {
   "cell_type": "code",
   "execution_count": 9,
   "id": "7bde73cd",
   "metadata": {},
   "outputs": [],
   "source": [
    "with open(safe_model_path_pickle, \"rb\") as fo:\n",
    "    safe_model_pickle = pickle.load(fo)\n",
    "\n",
    "unsafe_model_path = os.path.join(model_directory, \"unsafe_model.pkl\")\n",
    "generate_unsafe_file(model, command, malicious_code, unsafe_model_path)"
   ]
  },
  {
   "cell_type": "markdown",
   "id": "1798152e",
   "metadata": {},
   "source": [
    "# Unsafe Model Prediction\n",
    "\n",
    "The malicious code gets executed when the model is loaded. The aws secret keys are displayed. \n",
    "\n",
    "Also, the unsafe model predicts just as well as safe model i.e., the code injection attack will not impact the model performance. The unaffected performance of unsafe models makes the ML models an effective attack vector. "
   ]
  },
  {
   "cell_type": "code",
   "execution_count": 10,
   "id": "49d6c62f",
   "metadata": {},
   "outputs": [
    {
     "name": "stdout",
     "output_type": "stream",
     "text": [
      "aws_access_key_id=<access_key_id>\n",
      "aws_secret_access_key=<aws_secret_key>\n",
      "The model predicts: [0, 1, 1]\n",
      "The true labels are: [0. 1. 1.]\n"
     ]
    }
   ],
   "source": [
    "with open(unsafe_model_path, \"rb\") as fo:\n",
    "    unsafe_model = pickle.load(fo)\n",
    "\n",
    "get_predictions(number_of_predictions, unsafe_model)"
   ]
  },
  {
   "cell_type": "markdown",
   "id": "72584048",
   "metadata": {},
   "source": [
    "# Scan Unsafe Model\n",
    "\n",
    "The scan results include information on the files scanned, and any issues if found. In this case, a critical severity level issue is found in the unsafe model scanned. \n",
    "\n",
    "ModelScan also outlines the found operator(s) and module(s) deemed unsafe. \n",
    "\n",
    "### ModelScan Settings File\n",
    "- If you have created a settings file with default name and location (`modelscan-settings.toml`) it would automatically be used when scanning a model. \n",
    "\n",
    "- If you want to use a  specific name and/or location of settings file, please specify it with `--settings-file` as outlined in the next cell. \n",
    "\n",
    "- If you have not created any settings file, ModelScan will scan using default settings."
   ]
  },
  {
   "cell_type": "code",
   "execution_count": 11,
   "id": "9ee3393e",
   "metadata": {},
   "outputs": [
    {
     "name": "stdout",
     "output_type": "stream",
     "text": [
      "No settings file detected at /Users/mehrinkiani/Documents/modelscan/notebooks/modelscan-settings.toml. Using defaults. \n",
      "\n",
      "Scanning /Users/mehrinkiani/Documents/modelscan/notebooks/XGBoostModels/unsafe_model.pkl using modelscan.scanners.PickleUnsafeOpScan model scan\n",
      "\n",
      "\u001b[34m--- Summary ---\u001b[0m\n",
      "\n",
      "Total Issues: \u001b[1;36m1\u001b[0m\n",
      "\n",
      "Total Issues By Severity:\n",
      "\n",
      "    - LOW: \u001b[1;32m0\u001b[0m\n",
      "    - MEDIUM: \u001b[1;32m0\u001b[0m\n",
      "    - HIGH: \u001b[1;32m0\u001b[0m\n",
      "    - CRITICAL: \u001b[1;36m1\u001b[0m\n",
      "\n",
      "\u001b[34m--- Issues by Severity ---\u001b[0m\n",
      "\n",
      "\u001b[34m--- CRITICAL ---\u001b[0m\n",
      "\n",
      "Unsafe operator found:\n",
      "  - Severity: CRITICAL\n",
      "  - Description: Use of unsafe operator 'system' from module 'posix'\n",
      "  - Source: /Users/mehrinkiani/Documents/modelscan/notebooks/XGBoostModels/unsafe_model.pkl\n"
     ]
    }
   ],
   "source": [
    "#!modelscan -p XGBoostModels/unsafe_model.pkl --settings-file my-modelscan-settings.toml\n",
    "!modelscan -p XGBoostModels/unsafe_model.pkl"
   ]
  },
  {
   "cell_type": "markdown",
   "id": "9a908243",
   "metadata": {},
   "source": [
    "# Reporting Format\n",
    "ModelScan can report scan results in console (default), JSON, or custom report (to be defined by user in settings-file). For mode details, please see:  ` modelscan -h` "
   ]
  },
  {
   "cell_type": "markdown",
   "id": "7ff858af",
   "metadata": {},
   "source": [
    "## JSON Report\n",
    "\n",
    "For JSON reporting: `modelscan -p ./path-to/file -r json -o output-file-name.json` "
   ]
  },
  {
   "cell_type": "code",
   "execution_count": 12,
   "id": "6df55b3e",
   "metadata": {},
   "outputs": [
    {
     "name": "stdout",
     "output_type": "stream",
     "text": [
      "No settings file detected at /Users/mehrinkiani/Documents/modelscan/notebooks/modelscan-settings.toml. Using defaults. \n",
      "\n",
      "Scanning /Users/mehrinkiani/Documents/modelscan/notebooks/XGBoostModels/unsafe_model.pkl using modelscan.scanners.PickleUnsafeOpScan model scan\n",
      "\u001b[1m{\u001b[0m\u001b[32m\"modelscan_version\"\u001b[0m: \u001b[32m\"0.5.1\"\u001b[0m, \u001b[32m\"timestamp\"\u001b[0m: \u001b[32m\"2024-02-06T10:56:13.862502\"\u001b[0m, \n",
      "\u001b[32m\"input_path\"\u001b[0m: \n",
      "\u001b[32m\"/Users/mehrinkiani/Documents/modelscan/notebooks/XGBoostModels/unsafe_model.pkl\u001b[0m\n",
      "\u001b[32m\"\u001b[0m, \u001b[32m\"total_issues\"\u001b[0m: \u001b[1;36m1\u001b[0m, \u001b[32m\"summary\"\u001b[0m: \u001b[1m{\u001b[0m\u001b[32m\"total_issues_by_severity\"\u001b[0m: \u001b[1m{\u001b[0m\u001b[32m\"LOW\"\u001b[0m: \u001b[1;36m0\u001b[0m, \n",
      "\u001b[32m\"MEDIUM\"\u001b[0m: \u001b[1;36m0\u001b[0m, \u001b[32m\"HIGH\"\u001b[0m: \u001b[1;36m0\u001b[0m, \u001b[32m\"CRITICAL\"\u001b[0m: \u001b[1;36m1\u001b[0m\u001b[1m}\u001b[0m\u001b[1m}\u001b[0m, \u001b[32m\"issues_by_severity\"\u001b[0m: \u001b[1m{\u001b[0m\u001b[32m\"CRITICAL\"\u001b[0m: \n",
      "\u001b[1m[\u001b[0m\u001b[1m{\u001b[0m\u001b[32m\"description\"\u001b[0m: \u001b[32m\"Use of unsafe operator 'system' from module 'posix'\"\u001b[0m, \n",
      "\u001b[32m\"operator\"\u001b[0m: \u001b[32m\"system\"\u001b[0m, \u001b[32m\"module\"\u001b[0m: \u001b[32m\"posix\"\u001b[0m, \u001b[32m\"source\"\u001b[0m: \n",
      "\u001b[32m\"/Users/mehrinkiani/Documents/modelscan/notebooks/XGBoostModels/unsafe_model.pkl\u001b[0m\n",
      "\u001b[32m\"\u001b[0m, \u001b[32m\"scanner\"\u001b[0m: \u001b[32m\"modelscan.scanners.PickleUnsafeOpScan\"\u001b[0m\u001b[1m}\u001b[0m\u001b[1m]\u001b[0m\u001b[1m}\u001b[0m, \u001b[32m\"errors\"\u001b[0m: \u001b[1m[\u001b[0m\u001b[1m]\u001b[0m, \n",
      "\u001b[32m\"scanned\"\u001b[0m: \u001b[1m{\u001b[0m\u001b[32m\"total_scanned\"\u001b[0m: \u001b[1;36m1\u001b[0m, \u001b[32m\"scanned_files\"\u001b[0m: \n",
      "\u001b[1m[\u001b[0m\u001b[32m\"/Users/mehrinkiani/Documents/modelscan/notebooks/XGBoostModels/unsafe_model.pk\u001b[0m\n",
      "\u001b[32ml\"\u001b[0m\u001b[1m]\u001b[0m\u001b[1m}\u001b[0m\u001b[1m}\u001b[0m\n"
     ]
    }
   ],
   "source": [
    "# This will save the scan results in file: xgboost-model-scan-results.json\n",
    "!modelscan --path  XGBoostModels/unsafe_model.pkl -r json -o xgboost-model-scan-results.json"
   ]
  }
 ],
 "metadata": {
  "kernelspec": {
   "display_name": "Python 3.10.13 ('modelscan')",
   "language": "python",
   "name": "python3"
  },
  "language_info": {
   "codemirror_mode": {
    "name": "ipython",
    "version": 3
   },
   "file_extension": ".py",
   "mimetype": "text/x-python",
   "name": "python",
   "nbconvert_exporter": "python",
   "pygments_lexer": "ipython3",
   "version": "3.10.13"
  },
  "vscode": {
   "interpreter": {
    "hash": "4dc76e75b8580a33bdc5a5a988b23a4143f70625528e602e356063408d11834c"
   }
  }
 },
 "nbformat": 4,
 "nbformat_minor": 5
}
